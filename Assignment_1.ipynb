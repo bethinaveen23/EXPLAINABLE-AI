{
  "nbformat": 4,
  "nbformat_minor": 0,
  "metadata": {
    "colab": {
      "provenance": [],
      "authorship_tag": "ABX9TyN7zdXrXoNFQhh8TJlXobxR",
      "include_colab_link": true
    },
    "kernelspec": {
      "name": "python3",
      "display_name": "Python 3"
    },
    "language_info": {
      "name": "python"
    }
  },
  "cells": [
    {
      "cell_type": "markdown",
      "metadata": {
        "id": "view-in-github",
        "colab_type": "text"
      },
      "source": [
        "<a href=\"https://colab.research.google.com/github/bethinaveen23/EXPLAINABLE-AI/blob/main/Assignment_1.ipynb\" target=\"_parent\"><img src=\"https://colab.research.google.com/assets/colab-badge.svg\" alt=\"Open In Colab\"/></a>"
      ]
    },
    {
      "cell_type": "markdown",
      "source": [
        "Problem:1"
      ],
      "metadata": {
        "id": "q25HFjBnhigF"
      }
    },
    {
      "cell_type": "code",
      "execution_count": 1,
      "metadata": {
        "colab": {
          "base_uri": "https://localhost:8080/"
        },
        "id": "OiaxQx_PhbcU",
        "outputId": "e66782ea-99cb-47e2-c4e8-1c2efd381aaa"
      },
      "outputs": [
        {
          "output_type": "stream",
          "name": "stdout",
          "text": [
            "   Temperature  IceCreamsSold  Prediction       SHAP  Baseline+SHAP Over/Under\n",
            "0           20            200  296.034483  40.034483     296.034483       Over\n",
            "1           22            430  287.137931  31.137931     287.137931      Under\n",
            "2           29            190  256.000000   0.000000     256.000000       Over\n",
            "3           41            210  202.620690 -53.379310     202.620690      Under\n",
            "4           33            250  238.206897 -17.793103     238.206897      Under\n",
            "20°C → increase of 40.03 from baseline 256.00\n",
            "22°C → increase of 31.14 from baseline 256.00\n",
            "29°C → no change of 0.00 from baseline 256.00\n",
            "41°C → decrease of 53.38 from baseline 256.00\n",
            "33°C → decrease of 17.79 from baseline 256.00\n"
          ]
        }
      ],
      "source": [
        "import pandas as pd\n",
        "from sklearn.linear_model import LinearRegression\n",
        "\n",
        "df = pd.DataFrame({\n",
        "    \"Temperature\": [20, 22, 29, 41, 33],\n",
        "    \"IceCreamsSold\": [200, 430, 190, 210, 250]\n",
        "})\n",
        "\n",
        "X, y = df[[\"Temperature\"]], df[\"IceCreamsSold\"]\n",
        "model = LinearRegression().fit(X, y)\n",
        "\n",
        "baseline = y.mean()\n",
        "df[\"Prediction\"] = model.predict(X)\n",
        "df[\"SHAP\"] = df[\"Prediction\"] - baseline\n",
        "df[\"Baseline+SHAP\"] = baseline + df[\"SHAP\"]\n",
        "df[\"Diff\"] = df[\"Prediction\"] - y\n",
        "df[\"Over/Under\"] = df[\"Diff\"].apply(lambda v: \"Over\" if v > 0 else \"Under\" if v < 0 else \"Exact\")\n",
        "\n",
        "print(df[[\"Temperature\", \"IceCreamsSold\", \"Prediction\", \"SHAP\", \"Baseline+SHAP\", \"Over/Under\"]])\n",
        "\n",
        "for i, r in df.iterrows():\n",
        "    e = \"increase\" if r.SHAP > 0 else \"decrease\" if r.SHAP < 0 else \"no change\"\n",
        "    print(f\"{r.Temperature}°C → {e} of {abs(r.SHAP):.2f} from baseline {baseline:.2f}\")\n"
      ]
    },
    {
      "cell_type": "markdown",
      "source": [
        "Problem:2"
      ],
      "metadata": {
        "id": "WWhxSwNkhzhl"
      }
    },
    {
      "cell_type": "code",
      "source": [
        "import pandas as pd\n",
        "from sklearn.linear_model import LinearRegression\n",
        "\n",
        "df = pd.DataFrame({\n",
        "    \"Emails\": [200, 250, 220, 180, 60],\n",
        "    \"Social\": [15, 20, 28, 14, 22],\n",
        "    \"Enroll\": [320, 480, 400, 350, 280]\n",
        "})\n",
        "\n",
        "X, y = df[[\"Emails\", \"Social\"]], df[\"Enroll\"]\n",
        "m = LinearRegression().fit(X, y)\n",
        "\n",
        "b0, b1, b2 = m.intercept_, *m.coef_\n",
        "base = y.mean()\n",
        "mx1, mx2 = df[\"Emails\"].mean(), df[\"Social\"].mean()\n",
        "\n",
        "df[\"Pred\"] = m.predict(X)\n",
        "df[\"SHAP_E\"] = b1 * (df[\"Emails\"] - mx1)\n",
        "df[\"SHAP_S\"] = b2 * (df[\"Social\"] - mx2)\n",
        "df[\"Base+SHAP\"] = base + df[\"SHAP_E\"] + df[\"SHAP_S\"]\n",
        "df[\"Err\"] = df[\"Pred\"] - y\n",
        "df[\"Over/Under\"] = df[\"Err\"].apply(lambda e: \"Over\" if e > 0 else \"Under\" if e < 0 else \"Exact\")\n",
        "\n",
        "print(df[[\"Emails\", \"Social\", \"Enroll\", \"Pred\", \"SHAP_E\", \"SHAP_S\", \"Base+SHAP\", \"Over/Under\"]])\n",
        "\n",
        "for i, r in df.iterrows():\n",
        "    print(f\"Row{i+1}: Emails {r.SHAP_E:.2f}, Social {r.SHAP_S:.2f} → Pred {r.Pred:.2f}, Act {r.Enroll}, {r['Over/Under']}\")\n"
      ],
      "metadata": {
        "colab": {
          "base_uri": "https://localhost:8080/"
        },
        "id": "Rp9tuQpdh184",
        "outputId": "e86c08b5-fb11-46fe-f873-e83547897b8b"
      },
      "execution_count": 2,
      "outputs": [
        {
          "output_type": "stream",
          "name": "stdout",
          "text": [
            "   Emails  Social  Enroll        Pred      SHAP_E     SHAP_S   Base+SHAP  \\\n",
            "0     200      15     320  365.435279   15.903742 -16.468462  365.435279   \n",
            "1     250      20     480  426.766988   60.080802   0.686186  426.766988   \n",
            "2     220      28     400  427.708189   33.574566  28.133623  427.708189   \n",
            "3     180      14     350  344.333526   -1.767082 -19.899392  344.333526   \n",
            "4      60      22     280  265.756019 -107.792026   7.548045  265.756019   \n",
            "\n",
            "  Over/Under  \n",
            "0       Over  \n",
            "1      Under  \n",
            "2       Over  \n",
            "3      Under  \n",
            "4      Under  \n",
            "Row1: Emails 15.90, Social -16.47 → Pred 365.44, Act 320, Over\n",
            "Row2: Emails 60.08, Social 0.69 → Pred 426.77, Act 480, Under\n",
            "Row3: Emails 33.57, Social 28.13 → Pred 427.71, Act 400, Over\n",
            "Row4: Emails -1.77, Social -19.90 → Pred 344.33, Act 350, Under\n",
            "Row5: Emails -107.79, Social 7.55 → Pred 265.76, Act 280, Under\n"
          ]
        }
      ]
    },
    {
      "cell_type": "markdown",
      "source": [
        "Problem:3"
      ],
      "metadata": {
        "id": "gg_YDsqdiDdy"
      }
    },
    {
      "cell_type": "code",
      "source": [
        "import pandas as pd\n",
        "import numpy as np\n",
        "from sklearn.datasets import load_diabetes\n",
        "from sklearn.linear_model import LinearRegression\n",
        "from sklearn.model_selection import train_test_split\n",
        "\n",
        "X, y = load_diabetes(return_X_y=True, as_frame=True)\n",
        "X_train, X_test, y_train, y_test = train_test_split(X, y, test_size=0.2, random_state=42)\n",
        "\n",
        "model = LinearRegression().fit(X_train, y_train)\n",
        "baseline = y_train.mean()\n",
        "means = X_train.mean()\n",
        "\n",
        "preds = model.predict(X_test)\n",
        "shap_vals = (X_test - means) * model.coef_\n",
        "shap_sum = shap_vals.sum(axis=1)\n",
        "\n",
        "df = X_test.copy()\n",
        "df[\"Actual\"] = y_test\n",
        "df[\"Pred\"] = preds\n",
        "df[\"Baseline+SHAP\"] = baseline + shap_sum\n",
        "df[\"Over/Under\"] = df[\"Pred\"] - df[\"Actual\"]\n",
        "\n",
        "print(\"Baseline:\", baseline)\n",
        "print(\"Coefficients:\", dict(zip(X.columns, model.coef_)))\n",
        "print(df.head())\n",
        "\n",
        "for i, row in df.head(3).iterrows():\n",
        "    print(f\"\\nPatient {i+1}: Pred={row.Pred:.1f}, Actual={row.Actual}, Error={row['Over/Under']:.1f}\")\n",
        "    for f in X.columns:\n",
        "        val = shap_vals.loc[i, f]\n",
        "        print(f\"  {f}: {val:+.2f}\")"
      ],
      "metadata": {
        "colab": {
          "base_uri": "https://localhost:8080/"
        },
        "id": "ZASJGk8ciFU8",
        "outputId": "51600f21-abf0-4841-bf0b-1d940f3db5cd"
      },
      "execution_count": 3,
      "outputs": [
        {
          "output_type": "stream",
          "name": "stdout",
          "text": [
            "Baseline: 153.73654390934846\n",
            "Coefficients: {'age': np.float64(37.904021350074835), 'sex': np.float64(-241.96436231273972), 'bmi': np.float64(542.4287585162907), 'bp': np.float64(347.70384391385596), 's1': np.float64(-931.4888458835159), 's2': np.float64(518.0622769833373), 's3': np.float64(163.41998299131063), 's4': np.float64(275.3179015786486), 's5': np.float64(736.1988589046838), 's6': np.float64(48.67065743196508)}\n",
            "          age       sex       bmi        bp        s1        s2        s3  \\\n",
            "287  0.045341 -0.044642 -0.006206 -0.015999  0.125019  0.125198  0.019187   \n",
            "211  0.092564 -0.044642  0.036907  0.021872 -0.024960 -0.016658  0.000779   \n",
            "72   0.063504  0.050680 -0.004050 -0.012556  0.103003  0.048790  0.056003   \n",
            "321  0.096197 -0.044642  0.051996  0.079265  0.054845  0.036577 -0.076536   \n",
            "73   0.012648  0.050680 -0.020218 -0.002228  0.038334  0.053174 -0.006584   \n",
            "\n",
            "           s4        s5        s6  Actual        Pred  Baseline+SHAP  \\\n",
            "287  0.034309  0.032432 -0.005220   219.0  139.547558     139.547558   \n",
            "211 -0.039493 -0.022517 -0.021788    70.0  179.517208     179.517208   \n",
            "72  -0.002592  0.084492 -0.017646   202.0  134.038756     134.038756   \n",
            "321  0.141322  0.098648  0.061054   230.0  291.417029     291.417029   \n",
            "73   0.034309 -0.005142 -0.009362   111.0  123.789659     123.789659   \n",
            "\n",
            "     Over/Under  \n",
            "287  -79.452442  \n",
            "211  109.517208  \n",
            "72   -67.961244  \n",
            "321   61.417029  \n",
            "73    12.789659  \n",
            "\n",
            "Patient 288: Pred=139.5, Actual=219.0, Error=-79.5\n",
            "  age: +1.66\n",
            "  sex: +10.85\n",
            "  bmi: -4.31\n",
            "  bp: -5.97\n",
            "  s1: -116.97\n",
            "  s2: +65.28\n",
            "  s3: +3.30\n",
            "  s4: +9.34\n",
            "  s5: +22.98\n",
            "  s6: -0.35\n",
            "\n",
            "Patient 212: Pred=179.5, Actual=70.0, Error=109.5\n",
            "  age: +3.45\n",
            "  sex: +10.85\n",
            "  bmi: +19.08\n",
            "  bp: +7.20\n",
            "  s1: +22.73\n",
            "  s2: -8.21\n",
            "  s3: +0.29\n",
            "  s4: -10.98\n",
            "  s5: -17.47\n",
            "  s6: -1.15\n",
            "\n",
            "Patient 73: Pred=134.0, Actual=202.0, Error=-68.0\n",
            "  age: +2.35\n",
            "  sex: -12.22\n",
            "  bmi: -3.14\n",
            "  bp: -4.78\n",
            "  s1: -96.46\n",
            "  s2: +25.69\n",
            "  s3: +9.31\n",
            "  s4: -0.82\n",
            "  s5: +61.31\n",
            "  s6: -0.95\n"
          ]
        }
      ]
    },
    {
      "cell_type": "markdown",
      "source": [
        "Problem:4"
      ],
      "metadata": {
        "id": "s69QjJOWiMjc"
      }
    },
    {
      "cell_type": "code",
      "source": [
        "import pandas as pd\n",
        "from sklearn.model_selection import train_test_split\n",
        "from sklearn.linear_model import LinearRegression\n",
        "import shap\n",
        "\n",
        "df = pd.read_csv('/content/Experience_Salary.csv')\n",
        "X = df.drop(columns=['Salary'])\n",
        "y = df['Salary']\n",
        "\n",
        "X_train, X_test, y_train, y_test = train_test_split(X, y, test_size=0.2, random_state=42)\n",
        "model = LinearRegression().fit(X_train, y_train)\n",
        "\n",
        "baseline = y_train.mean()\n",
        "explainer = shap.Explainer(model, X_train)\n",
        "shap_values = explainer(X_test)\n",
        "\n",
        "preds = model.predict(X_test)\n",
        "verify = baseline + shap_values.values.sum(axis=1)\n",
        "\n",
        "for i in range(len(X_test)):\n",
        "    print(f\"Record {i+1}\")\n",
        "    print(f\"Predicted: {preds[i]:.2f}, Actual: {y_test.iloc[i]}, Baseline: {baseline:.2f}\")\n",
        "    for f, val in zip(X.columns, shap_values.values[i]):\n",
        "        print(f\"{f}: {val:+.2f}\")\n",
        "    print(f\"Sum SHAP + Baseline: {verify[i]:.2f}\")\n",
        "    print()"
      ],
      "metadata": {
        "colab": {
          "base_uri": "https://localhost:8080/"
        },
        "id": "iMP2gzg_iJr5",
        "outputId": "088ec49e-0ae6-4a92-9a25-3c90d4a44f4a"
      },
      "execution_count": 5,
      "outputs": [
        {
          "output_type": "stream",
          "name": "stdout",
          "text": [
            "Record 1\n",
            "Predicted: 115790.21, Actual: 112635, Baseline: 74207.62\n",
            "YearsExperience: +41582.59\n",
            "Sum SHAP + Baseline: 115790.21\n",
            "\n",
            "Record 2\n",
            "Predicted: 71498.28, Actual: 67938, Baseline: 74207.62\n",
            "YearsExperience: -2709.35\n",
            "Sum SHAP + Baseline: 71498.28\n",
            "\n",
            "Record 3\n",
            "Predicted: 102596.87, Actual: 113812, Baseline: 74207.62\n",
            "YearsExperience: +28389.24\n",
            "Sum SHAP + Baseline: 102596.87\n",
            "\n",
            "Record 4\n",
            "Predicted: 75267.80, Actual: 83088, Baseline: 74207.62\n",
            "YearsExperience: +1060.18\n",
            "Sum SHAP + Baseline: 75267.80\n",
            "\n",
            "Record 5\n",
            "Predicted: 55477.79, Actual: 64445, Baseline: 74207.62\n",
            "YearsExperience: -18729.83\n",
            "Sum SHAP + Baseline: 55477.79\n",
            "\n",
            "Record 6\n",
            "Predicted: 60189.70, Actual: 57189, Baseline: 74207.62\n",
            "YearsExperience: -14017.93\n",
            "Sum SHAP + Baseline: 60189.70\n",
            "\n"
          ]
        }
      ]
    }
  ]
}